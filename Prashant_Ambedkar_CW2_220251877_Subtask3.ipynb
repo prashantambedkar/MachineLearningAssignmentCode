{
 "cells": [
  {
   "cell_type": "code",
   "execution_count": 16,
   "id": "bad44923",
   "metadata": {},
   "outputs": [],
   "source": [
    "#Step 1:  Importing Packages"
   ]
  },
  {
   "cell_type": "code",
   "execution_count": 1,
   "id": "9f45883b",
   "metadata": {},
   "outputs": [],
   "source": [
    "import pandas as pd #for Reading CSV file\n",
    "from sklearn.cluster import KMeans\n",
    "from sklearn.decomposition import PCA\n",
    "import matplotlib.pyplot as plt #used for plotting graphs"
   ]
  },
  {
   "cell_type": "code",
   "execution_count": 2,
   "id": "0e75ceb6",
   "metadata": {},
   "outputs": [],
   "source": [
    "#Step 2: Importing Excel Sheet And Reading the Values"
   ]
  },
  {
   "cell_type": "code",
   "execution_count": 3,
   "id": "b857732e",
   "metadata": {},
   "outputs": [],
   "source": [
    "dataset=pd.read_csv('NewDelhi_Air_quality.csv') #reading csv file and storing in dataframe\n",
    "#print(dataset)\n",
    "df = pd.DataFrame(dataset)\n",
    "cols = [1,2,4,6,7,8]#-----fetching these columns (AQI, CO, no2, pm10, pm25 and so2) as mentioned in problem statement\n",
    "df = df[df.columns[cols]]\n",
    "#print(df)"
   ]
  },
  {
   "cell_type": "code",
   "execution_count": 20,
   "id": "9fa24294",
   "metadata": {},
   "outputs": [],
   "source": [
    "#Step 3: Examine the dataset to determine number of explanatory variables"
   ]
  },
  {
   "cell_type": "code",
   "execution_count": 21,
   "id": "302d7cf9",
   "metadata": {},
   "outputs": [
    {
     "data": {
      "text/html": [
       "<div>\n",
       "<style scoped>\n",
       "    .dataframe tbody tr th:only-of-type {\n",
       "        vertical-align: middle;\n",
       "    }\n",
       "\n",
       "    .dataframe tbody tr th {\n",
       "        vertical-align: top;\n",
       "    }\n",
       "\n",
       "    .dataframe thead th {\n",
       "        text-align: right;\n",
       "    }\n",
       "</style>\n",
       "<table border=\"1\" class=\"dataframe\">\n",
       "  <thead>\n",
       "    <tr style=\"text-align: right;\">\n",
       "      <th></th>\n",
       "      <th>AQI</th>\n",
       "      <th>CO</th>\n",
       "      <th>no2</th>\n",
       "      <th>pm10</th>\n",
       "      <th>pm25</th>\n",
       "      <th>so2</th>\n",
       "    </tr>\n",
       "  </thead>\n",
       "  <tbody>\n",
       "    <tr>\n",
       "      <th>0</th>\n",
       "      <td>30.2</td>\n",
       "      <td>198.60268</td>\n",
       "      <td>0.046857</td>\n",
       "      <td>10.486722</td>\n",
       "      <td>5.637410</td>\n",
       "      <td>0.387430</td>\n",
       "    </tr>\n",
       "    <tr>\n",
       "      <th>1</th>\n",
       "      <td>28.2</td>\n",
       "      <td>197.60132</td>\n",
       "      <td>0.046456</td>\n",
       "      <td>10.719325</td>\n",
       "      <td>4.618169</td>\n",
       "      <td>0.409782</td>\n",
       "    </tr>\n",
       "    <tr>\n",
       "      <th>2</th>\n",
       "      <td>26.6</td>\n",
       "      <td>198.60268</td>\n",
       "      <td>0.046857</td>\n",
       "      <td>11.155578</td>\n",
       "      <td>3.520902</td>\n",
       "      <td>0.402331</td>\n",
       "    </tr>\n",
       "    <tr>\n",
       "      <th>3</th>\n",
       "      <td>25.0</td>\n",
       "      <td>201.94054</td>\n",
       "      <td>0.048196</td>\n",
       "      <td>11.116206</td>\n",
       "      <td>2.225919</td>\n",
       "      <td>0.376254</td>\n",
       "    </tr>\n",
       "    <tr>\n",
       "      <th>4</th>\n",
       "      <td>26.0</td>\n",
       "      <td>205.27840</td>\n",
       "      <td>0.048865</td>\n",
       "      <td>10.405250</td>\n",
       "      <td>1.979471</td>\n",
       "      <td>0.339001</td>\n",
       "    </tr>\n",
       "  </tbody>\n",
       "</table>\n",
       "</div>"
      ],
      "text/plain": [
       "    AQI         CO       no2       pm10      pm25       so2\n",
       "0  30.2  198.60268  0.046857  10.486722  5.637410  0.387430\n",
       "1  28.2  197.60132  0.046456  10.719325  4.618169  0.409782\n",
       "2  26.6  198.60268  0.046857  11.155578  3.520902  0.402331\n",
       "3  25.0  201.94054  0.048196  11.116206  2.225919  0.376254\n",
       "4  26.0  205.27840  0.048865  10.405250  1.979471  0.339001"
      ]
     },
     "execution_count": 21,
     "metadata": {},
     "output_type": "execute_result"
    }
   ],
   "source": [
    "df.head()"
   ]
  },
  {
   "cell_type": "code",
   "execution_count": 22,
   "id": "97ed67e1",
   "metadata": {},
   "outputs": [
    {
     "data": {
      "text/html": [
       "<div>\n",
       "<style scoped>\n",
       "    .dataframe tbody tr th:only-of-type {\n",
       "        vertical-align: middle;\n",
       "    }\n",
       "\n",
       "    .dataframe tbody tr th {\n",
       "        vertical-align: top;\n",
       "    }\n",
       "\n",
       "    .dataframe thead th {\n",
       "        text-align: right;\n",
       "    }\n",
       "</style>\n",
       "<table border=\"1\" class=\"dataframe\">\n",
       "  <thead>\n",
       "    <tr style=\"text-align: right;\">\n",
       "      <th></th>\n",
       "      <th>AQI</th>\n",
       "      <th>CO</th>\n",
       "      <th>no2</th>\n",
       "      <th>pm10</th>\n",
       "      <th>pm25</th>\n",
       "      <th>so2</th>\n",
       "    </tr>\n",
       "  </thead>\n",
       "  <tbody>\n",
       "    <tr>\n",
       "      <th>count</th>\n",
       "      <td>72.000000</td>\n",
       "      <td>72.000000</td>\n",
       "      <td>72.000000</td>\n",
       "      <td>72.000000</td>\n",
       "      <td>72.000000</td>\n",
       "      <td>72.000000</td>\n",
       "    </tr>\n",
       "    <tr>\n",
       "      <th>mean</th>\n",
       "      <td>26.180556</td>\n",
       "      <td>200.095443</td>\n",
       "      <td>0.041996</td>\n",
       "      <td>9.115038</td>\n",
       "      <td>2.295406</td>\n",
       "      <td>0.363423</td>\n",
       "    </tr>\n",
       "    <tr>\n",
       "      <th>std</th>\n",
       "      <td>3.054650</td>\n",
       "      <td>4.515537</td>\n",
       "      <td>0.010940</td>\n",
       "      <td>1.531785</td>\n",
       "      <td>0.656507</td>\n",
       "      <td>0.044664</td>\n",
       "    </tr>\n",
       "    <tr>\n",
       "      <th>min</th>\n",
       "      <td>19.000000</td>\n",
       "      <td>191.926960</td>\n",
       "      <td>0.015563</td>\n",
       "      <td>6.686746</td>\n",
       "      <td>1.633373</td>\n",
       "      <td>0.283122</td>\n",
       "    </tr>\n",
       "    <tr>\n",
       "      <th>25%</th>\n",
       "      <td>25.000000</td>\n",
       "      <td>197.434427</td>\n",
       "      <td>0.037988</td>\n",
       "      <td>7.864763</td>\n",
       "      <td>1.828729</td>\n",
       "      <td>0.320375</td>\n",
       "    </tr>\n",
       "    <tr>\n",
       "      <th>50%</th>\n",
       "      <td>27.000000</td>\n",
       "      <td>200.271600</td>\n",
       "      <td>0.045518</td>\n",
       "      <td>8.914176</td>\n",
       "      <td>2.201811</td>\n",
       "      <td>0.372529</td>\n",
       "    </tr>\n",
       "    <tr>\n",
       "      <th>75%</th>\n",
       "      <td>28.000000</td>\n",
       "      <td>203.609470</td>\n",
       "      <td>0.050204</td>\n",
       "      <td>10.274836</td>\n",
       "      <td>2.522210</td>\n",
       "      <td>0.395812</td>\n",
       "    </tr>\n",
       "    <tr>\n",
       "      <th>max</th>\n",
       "      <td>32.000000</td>\n",
       "      <td>208.616260</td>\n",
       "      <td>0.060914</td>\n",
       "      <td>12.845977</td>\n",
       "      <td>5.637410</td>\n",
       "      <td>0.454485</td>\n",
       "    </tr>\n",
       "  </tbody>\n",
       "</table>\n",
       "</div>"
      ],
      "text/plain": [
       "             AQI          CO        no2       pm10       pm25        so2\n",
       "count  72.000000   72.000000  72.000000  72.000000  72.000000  72.000000\n",
       "mean   26.180556  200.095443   0.041996   9.115038   2.295406   0.363423\n",
       "std     3.054650    4.515537   0.010940   1.531785   0.656507   0.044664\n",
       "min    19.000000  191.926960   0.015563   6.686746   1.633373   0.283122\n",
       "25%    25.000000  197.434427   0.037988   7.864763   1.828729   0.320375\n",
       "50%    27.000000  200.271600   0.045518   8.914176   2.201811   0.372529\n",
       "75%    28.000000  203.609470   0.050204  10.274836   2.522210   0.395812\n",
       "max    32.000000  208.616260   0.060914  12.845977   5.637410   0.454485"
      ]
     },
     "execution_count": 22,
     "metadata": {},
     "output_type": "execute_result"
    }
   ],
   "source": [
    "df.describe() # Useful in this context due to us having so much data - we can see the range of the values in each columns..."
   ]
  },
  {
   "cell_type": "code",
   "execution_count": 23,
   "id": "177370f6",
   "metadata": {},
   "outputs": [],
   "source": [
    "#Principal component analysis (PCA)"
   ]
  },
  {
   "cell_type": "code",
   "execution_count": 24,
   "id": "ef4cced0",
   "metadata": {},
   "outputs": [],
   "source": [
    "#Step 4: Fitting a PCA model to the data using the same number of components as you have explanatory variables."
   ]
  },
  {
   "cell_type": "code",
   "execution_count": 25,
   "id": "d28e2311",
   "metadata": {},
   "outputs": [
    {
     "data": {
      "image/png": "[encoded data removed]",
      "text/plain": [
       "<Figure size 640x480 with 1 Axes>"
      ]
     },
     "metadata": {},
     "output_type": "display_data"
    }
   ],
   "source": [
    "pca = PCA(n_components = 6) # Creating a PCA model using total variables (explanatory or not).\n",
    "pca.fit(df) # Fit the data...\n",
    "\n",
    "# Let's plot the explained_variance_ratio_ in a similar manner to the lecture slides...\n",
    "plt.bar(range(1,7), pca.explained_variance_ratio_, color='green') # Plot on the line graphs...\n",
    "plt.title(\"PCA Visualised\") # Show the title\n",
    "plt.xlabel('Principal Component') # Show the x axis label\n",
    "plt.ylabel('Explained Variance Ratio') # Show the y axis label\n",
    "plt.xticks([1, 2, 3, 4, 5, 6]) # Set the x axis range and values\n",
    "plt.show() # Show the graph."
   ]
  },
  {
   "cell_type": "markdown",
   "id": "d104955c",
   "metadata": {},
   "source": [
    "### Discussion: <br>\n",
    "<ul>\n",
    "  <li>The above chart descibes about the principal component VS variance ratio.</li>\n",
    " <li>It shows how much of the variance in the dataset is explained by the principal components.</li>\n",
    " <li>From the graph we can say that the 1st component has maximum information regarding the dataset.</li>\n",
    "  <li>The 2nd, 3rd and 4th component has few information as compared to rest.</li>\n",
    "        </ul>"
   ]
  },
  {
   "cell_type": "code",
   "execution_count": 26,
   "id": "3368f675",
   "metadata": {},
   "outputs": [],
   "source": [
    "#Step 5: Inspecting the properties explained_variance_ratio_ in pca. "
   ]
  },
  {
   "cell_type": "code",
   "execution_count": 27,
   "id": "d0a01ff2",
   "metadata": {},
   "outputs": [
    {
     "name": "stdout",
     "output_type": "stream",
     "text": [
      "[8.40191960e-01 9.79548573e-02 5.41305157e-02 7.70816431e-03\n",
      " 1.31723371e-05 1.33000916e-06]\n"
     ]
    }
   ],
   "source": [
    "print(pca.explained_variance_ratio_) # Inspect the properties of explained_variance_ratio_"
   ]
  },
  {
   "cell_type": "code",
   "execution_count": 28,
   "id": "b742d87c",
   "metadata": {},
   "outputs": [],
   "source": [
    "# From the above observation,\n",
    "# We can say that the explained variance states that how much information a variance can be attributed to each principal components. We can also say that explained variance presents the information explained using particular principal components."
   ]
  },
  {
   "cell_type": "code",
   "execution_count": 29,
   "id": "703c8e59",
   "metadata": {},
   "outputs": [],
   "source": [
    "# Step 6: Inspecting components in pca. "
   ]
  },
  {
   "cell_type": "code",
   "execution_count": 30,
   "id": "ce4ae75f",
   "metadata": {},
   "outputs": [
    {
     "name": "stdout",
     "output_type": "stream",
     "text": [
      "[[-5.22452363e-01 -8.49760789e-01 -1.47808025e-03  1.52531156e-02\n",
      "   6.83103131e-02  6.99914801e-03]\n",
      " [ 6.51143633e-01 -3.77866340e-01  1.97854413e-03  6.44008410e-01\n",
      "   1.35927344e-01 -1.41720428e-03]\n",
      " [-5.47137035e-01  3.48979599e-01  6.01155742e-04  7.60709767e-01\n",
      "  -1.30591072e-02 -2.01329464e-03]\n",
      " [-6.05413032e-02  1.15452797e-01 -2.67332163e-03 -7.94703572e-02\n",
      "   9.87832627e-01  2.94858986e-02]\n",
      " [-5.11936009e-03 -2.67619537e-03 -7.03889232e-02 -4.53620105e-03\n",
      "   2.92050809e-02 -9.97064951e-01]\n",
      " [ 2.25944065e-03  5.99403382e-04 -9.97512803e-01  2.24629388e-03\n",
      "  -4.54769998e-03  7.02639035e-02]]\n"
     ]
    }
   ],
   "source": [
    "print(pca.components_) # Inspect components_"
   ]
  },
  {
   "cell_type": "code",
   "execution_count": 31,
   "id": "70d20412",
   "metadata": {},
   "outputs": [],
   "source": [
    "# From the above observation,\n",
    "# The attribute 'pca.components_' is a set of all eigen vectors for projection space i.e., one eigen vector each principal components. The need of eigen vector is because it points in the direction of maximum variance."
   ]
  },
  {
   "cell_type": "code",
   "execution_count": 32,
   "id": "e5834415",
   "metadata": {},
   "outputs": [],
   "source": [
    "# Step 7: Use PCA to project the data down into 2D space.\n",
    "\n",
    "# The easiest way to do this is to fit a new PCA model with 2 components and using the model to transform the data."
   ]
  },
  {
   "cell_type": "code",
   "execution_count": 33,
   "id": "93444744",
   "metadata": {},
   "outputs": [
    {
     "name": "stdout",
     "output_type": "stream",
     "text": [
      "Shape of the new data is: (72, 2)\n"
     ]
    }
   ],
   "source": [
    "pca = PCA(n_components = 2)             # Creating a PCA model using 2 components\n",
    "new_data = pca.fit_transform(df)      # Fit and transform the data...\n",
    "print(\"Shape of the new data is: \" + str(new_data.shape))\n",
    "#new_data"
   ]
  },
  {
   "cell_type": "code",
   "execution_count": 34,
   "id": "ff6e98ec",
   "metadata": {},
   "outputs": [
    {
     "name": "stdout",
     "output_type": "stream",
     "text": [
      "[0.84019196 0.09795486]\n"
     ]
    }
   ],
   "source": [
    "print(pca.explained_variance_ratio_) # Inspect the properties of explained_variance_ratio_\n",
    "# needed to represent a certain percentage of the total variance in the data."
   ]
  },
  {
   "cell_type": "code",
   "execution_count": 35,
   "id": "306422ce",
   "metadata": {},
   "outputs": [],
   "source": [
    "# Step 8: Plot a scatter graph of the data"
   ]
  },
  {
   "cell_type": "code",
   "execution_count": 36,
   "id": "ce4baee4",
   "metadata": {},
   "outputs": [
    {
     "data": {
      "image/png": "[encoded data removed]",
      "text/plain": [
       "<Figure size 640x480 with 1 Axes>"
      ]
     },
     "metadata": {},
     "output_type": "display_data"
    }
   ],
   "source": [
    "plt.scatter(new_data[:,0], new_data[:,1], color=\"red\", marker=\"x\")\n",
    "plt.title(\"Dataset Projected to 2D\")\n",
    "plt.xlabel('Principal Component: 1') # Show the x axis label\n",
    "plt.ylabel('Principal Component: 2') # Show the y axis label\n",
    "plt.show() # Show the graph"
   ]
  },
  {
   "cell_type": "markdown",
   "id": "c82703d2",
   "metadata": {},
   "source": [
    "### `Result`: I `disagree` with colleague because based on the above observation, we get high variance with taking 3 components.<br> The percentage from 1st component is approx 84% variance, with 2nd component its appox 9.8% variance, with 3rd component its approx 5.4% variance. if we consider 1st component only, we get 84%. <br> if we merge 1st and 2nd component, we get 93.8%.<br> if we merge 1st, 2nd and 3rd component, we get 98.8%. <br>So it is better to use 3 components to get better results for given dataset."
   ]
  },
  {
   "cell_type": "code",
   "execution_count": null,
   "id": "e9ac2147",
   "metadata": {},
   "outputs": [],
   "source": []
  },
  {
   "cell_type": "code",
   "execution_count": null,
   "id": "196a29a1",
   "metadata": {},
   "outputs": [],
   "source": []
  }
 ],
 "metadata": {
  "kernelspec": {
   "display_name": "Python 3 (ipykernel)",
   "language": "python",
   "name": "python3"
  },
  "language_info": {
   "codemirror_mode": {
    "name": "ipython",
    "version": 3
   },
   "file_extension": ".py",
   "mimetype": "text/x-python",
   "name": "python",
   "nbconvert_exporter": "python",
   "pygments_lexer": "ipython3",
   "version": "3.10.7"
  }
 },
 "nbformat": 4,
 "nbformat_minor": 5
}
